{
 "cells": [
  {
   "cell_type": "code",
   "execution_count": 3,
   "metadata": {},
   "outputs": [],
   "source": [
    "import requests\n",
    "\n",
    "url = \"http://127.0.0.1:8000/api/v1\""
   ]
  },
  {
   "cell_type": "code",
   "execution_count": 1,
   "metadata": {},
   "outputs": [],
   "source": [
    "#Endpoints\n",
    "\n",
    "rider = \"http://127.0.0.1:8000/api/v1/riders\"\n",
    "get_particular_rider = \"http://127.0.0.1:8000/api/v1/riders/{rider_id}\"\n",
    "\n",
    "requester = \"http://127.0.0.1:8000/api/v1/requester/\"\n",
    "get_particular_requester = \"http://127.0.0.1:8000/api/v1/requester/{id}\"\n",
    "get_assets_associated = \"http://127.0.0.1:8000/api/v1/requester/{id}/assets/\"\n",
    "\n",
    "assets = \"http://127.0.0.1:8000/api/v1/assets/\"\n",
    "get_particular_asset = \"http://127.0.0.1:8000/api/v1/assets/{id}\"\n",
    "get_matched_riders = \"http://127.0.0.1:8000/api/v1/asset/{id}/riders/\"\n",
    "\n"
   ]
  }
 ],
 "metadata": {
  "kernelspec": {
   "display_name": "Python 3.10.8 ('venv': venv)",
   "language": "python",
   "name": "python3"
  },
  "language_info": {
   "codemirror_mode": {
    "name": "ipython",
    "version": 3
   },
   "file_extension": ".py",
   "mimetype": "text/x-python",
   "name": "python",
   "nbconvert_exporter": "python",
   "pygments_lexer": "ipython3",
   "version": "3.10.8"
  },
  "orig_nbformat": 4,
  "vscode": {
   "interpreter": {
    "hash": "dd3d07aab37dd0cfaab13958fad5277d5dd28980ee352e494054ae691b0b412a"
   }
  }
 },
 "nbformat": 4,
 "nbformat_minor": 2
}
